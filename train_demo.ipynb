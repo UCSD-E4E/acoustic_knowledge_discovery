{
 "cells": [
  {
   "cell_type": "code",
   "execution_count": 2,
   "id": "75af25f7",
   "metadata": {},
   "outputs": [],
   "source": [
    "%load_ext autoreload\n",
    "%reload_ext autoreload\n",
    "%autoreload 2"
   ]
  },
  {
   "cell_type": "code",
   "execution_count": 3,
   "id": "7159ee71",
   "metadata": {},
   "outputs": [
    {
     "name": "stderr",
     "output_type": "stream",
     "text": [
      "/home/s.kamboj.400/acoustic_knowledge_discovery/.venv/lib/python3.12/site-packages/tqdm/auto.py:21: TqdmWarning: IProgress not found. Please update jupyter and ipywidgets. See https://ipywidgets.readthedocs.io/en/stable/user_install.html\n",
      "  from .autonotebook import tqdm as notebook_tqdm\n"
     ]
    }
   ],
   "source": [
    "from acoustic_knowledge_discovery import extractors"
   ]
  },
  {
   "cell_type": "code",
   "execution_count": 16,
   "id": "4533529c",
   "metadata": {},
   "outputs": [
    {
     "name": "stdout",
     "output_type": "stream",
     "text": [
      "columns in file_ds: ['file_path', ' time_of_day', 'season', 'species']\n",
      "columns in anno_ds: ['file_path', 'offset_time', 'end_time', 'species']\n"
     ]
    }
   ],
   "source": [
    "extractor = extractors.Extractor(\"/home/s.kamboj.400/acoustic_knowledge_discovery/sample_inputs/file.csv\", \n",
    "                                 \"/home/s.kamboj.400/acoustic_knowledge_discovery/sample_inputs/anno.csv\",\n",
    "                                 \"/home/s.kamboj.400/acoustic_knowledge_discovery/sample_inputs/inputDtory\")\n",
    "kd = extractor.forward()\n"
   ]
  },
  {
   "cell_type": "code",
   "execution_count": null,
   "id": "bdafffa6",
   "metadata": {},
   "outputs": [],
   "source": []
  }
 ],
 "metadata": {
  "kernelspec": {
   "display_name": "acoustic-knowledge-discovery",
   "language": "python",
   "name": "python3"
  },
  "language_info": {
   "codemirror_mode": {
    "name": "ipython",
    "version": 3
   },
   "file_extension": ".py",
   "mimetype": "text/x-python",
   "name": "python",
   "nbconvert_exporter": "python",
   "pygments_lexer": "ipython3",
   "version": "3.12.3"
  }
 },
 "nbformat": 4,
 "nbformat_minor": 5
}
