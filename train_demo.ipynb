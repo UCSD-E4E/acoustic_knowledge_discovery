{
 "cells": [
  {
   "cell_type": "code",
   "execution_count": 72,
   "id": "75af25f7",
   "metadata": {},
   "outputs": [
    {
     "name": "stdout",
     "output_type": "stream",
     "text": [
      "The autoreload extension is already loaded. To reload it, use:\n",
      "  %reload_ext autoreload\n"
     ]
    }
   ],
   "source": [
    "%load_ext autoreload\n",
    "%reload_ext autoreload\n",
    "%autoreload 2"
   ]
  },
  {
   "cell_type": "code",
   "execution_count": 73,
   "id": "cd390ace",
   "metadata": {},
   "outputs": [],
   "source": [
    "import os"
   ]
  },
  {
   "cell_type": "code",
   "execution_count": 74,
   "id": "7159ee71",
   "metadata": {},
   "outputs": [],
   "source": [
    "from acoustic_knowledge_discovery import extractors"
   ]
  },
  {
   "cell_type": "code",
   "execution_count": 75,
   "id": "4533529c",
   "metadata": {},
   "outputs": [
    {
     "name": "stderr",
     "output_type": "stream",
     "text": [
      "Generating train split: 2 examples [00:00, 336.51 examples/s]\n",
      "Generating train split: 2 examples [00:00, 285.45 examples/s]\n",
      "Map: 100%|██████████| 2/2 [00:00<00:00, 197.04 examples/s]\n",
      "Casting the dataset: 100%|██████████| 2/2 [00:00<00:00, 306.55 examples/s]\n",
      "Casting the dataset: 100%|██████████| 2/2 [00:00<00:00, 284.03 examples/s]\n",
      "Casting the dataset: 100%|██████████| 2/2 [00:00<00:00, 270.37 examples/s]\n",
      "Casting the dataset: 100%|██████████| 2/2 [00:00<00:00, 296.92 examples/s]\n",
      "Casting the dataset: 100%|██████████| 2/2 [00:00<00:00, 300.41 examples/s]\n",
      "Casting the dataset: 100%|██████████| 2/2 [00:00<00:00, 545.57 examples/s]\n",
      "Casting the dataset: 100%|██████████| 2/2 [00:00<00:00, 599.10 examples/s]\n",
      "Casting the dataset: 100%|██████████| 2/2 [00:00<00:00, 669.05 examples/s]\n",
      "Casting the dataset: 100%|██████████| 2/2 [00:00<00:00, 678.74 examples/s]\n",
      "Casting the dataset: 100%|██████████| 2/2 [00:00<00:00, 562.54 examples/s]"
     ]
    },
    {
     "name": "stdout",
     "output_type": "stream",
     "text": [
      "columns in file_ds: ['file_path', ' time_of_day', 'season', 'species']\n",
      "columns in anno_ds: ['file_path', 'offset_time', 'end_time', 'annotation', 'confidence', 'ID']\n"
     ]
    },
    {
     "name": "stderr",
     "output_type": "stream",
     "text": [
      "\n"
     ]
    }
   ],
   "source": [
    "extractor = extractors.Extractor(\n",
    "    \"/home/s.kamboj.400/acoustic_knowledge_discovery/sample_inputs/file.csv\", #file metadata csv\n",
    "    \"/home/s.kamboj.400/acoustic_knowledge_discovery/sample_inputs/anno.csv\", #annoations csv\n",
    "    \"/home/s.kamboj.400/acoustic_knowledge_discovery/sample_inputs/inputDtory\") #input directory with a files subdirectory for audio files & a XC-templates subdirectory for XC templates\n",
    "kd = extractor.forward()\n"
   ]
  },
  {
   "cell_type": "code",
   "execution_count": 76,
   "id": "e8b28c6a",
   "metadata": {},
   "outputs": [
    {
     "name": "stdout",
     "output_type": "stream",
     "text": [
      "{'file_path': 'XC233970 - Black-chinned Sparrow - Spizella atrogularis.mp3', 'offset_time': 0.0, 'end_time': 5.0, 'annotation': 'owl', 'confidence': 0.9, 'ID': 'XC233970 - Black-chinned Sparrow - Spizella atrogularis.mp3_0'}\n",
      "{'file_path': 'XC758442 - Common Blackbird - Turdus merula.wav', 'offset_time': 5.0, 'end_time': 7.0, 'annotation': 'bat', 'confidence': 0.8, 'ID': 'XC758442 - Common Blackbird - Turdus merula.wav_5'}\n"
     ]
    }
   ],
   "source": [
    "#verify properly loaded\n",
    "for row in kd.anno_ds:\n",
    "    print(row)"
   ]
  },
  {
   "cell_type": "code",
   "execution_count": 77,
   "id": "a2fe8bf2",
   "metadata": {},
   "outputs": [
    {
     "name": "stdout",
     "output_type": "stream",
     "text": [
      "1 total templates\n",
      "Filtered down to 1 unique species templates\n",
      "  XC758442 - Common Blackbird - Turdus merula: XC758442 - Common Blackbird - Turdus merula.wav\n",
      "Progress: 1/1 templates completed (100.0%)\n",
      "Total matches found above the threshold of 0.6: 1\n"
     ]
    }
   ],
   "source": [
    "from acoustic_knowledge_discovery import features\n",
    "\n",
    "THRESHOLD = 0.6 # Customizable threshold for detections\n",
    "\n",
    "template_matching= features.TemplateMatching(\n",
    "    os.path.join(extractor.base_dir, \"files\"), # path to audio clips\n",
    "    os.path.join(extractor.base_dir, \"XC-templates\"), # path to XC templates\n",
    "    THRESHOLD, \n",
    "    extractor.anno_ds) #dataset with annotations to append results to\n",
    "\n",
    "new_kd= template_matching()"
   ]
  },
  {
   "cell_type": "code",
   "execution_count": 78,
   "id": "f30b8d4a",
   "metadata": {},
   "outputs": [
    {
     "name": "stdout",
     "output_type": "stream",
     "text": [
      "{'file_path': 'XC233970 - Black-chinned Sparrow - Spizella atrogularis.mp3', 'offset_time': 0.0, 'end_time': 5.0, 'annotation': 'owl', 'confidence': 0.9, 'ID': 'XC233970 - Black-chinned Sparrow - Spizella atrogularis.mp3_0'}\n",
      "{'file_path': 'XC758442 - Common Blackbird - Turdus merula.wav', 'offset_time': 5.0, 'end_time': 7.0, 'annotation': 'bat', 'confidence': 0.8, 'ID': 'XC758442 - Common Blackbird - Turdus merula.wav_5'}\n",
      "{'file_path': 'XC758442 - Common Blackbird - Turdus merula.wav', 'offset_time': 0.046439909297052155, 'end_time': 5.14, 'annotation': 'XC758442 - Common Blackbird - Turdus merula', 'confidence': 0.6061245203018188, 'ID': 'XC758442 - Common Blackbird - Turdus merula.wav_0.046439909297052155'}\n"
     ]
    }
   ],
   "source": [
    "#verify template matching results properly loaded\n",
    "for row in new_kd:\n",
    "    print(row)"
   ]
  }
 ],
 "metadata": {
  "kernelspec": {
   "display_name": "acoustic-knowledge-discovery",
   "language": "python",
   "name": "python3"
  },
  "language_info": {
   "codemirror_mode": {
    "name": "ipython",
    "version": 3
   },
   "file_extension": ".py",
   "mimetype": "text/x-python",
   "name": "python",
   "nbconvert_exporter": "python",
   "pygments_lexer": "ipython3",
   "version": "3.12.3"
  }
 },
 "nbformat": 4,
 "nbformat_minor": 5
}
