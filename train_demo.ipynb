{
 "cells": [
  {
   "cell_type": "code",
   "execution_count": 1,
   "id": "75af25f7",
   "metadata": {},
   "outputs": [],
   "source": [
    "%load_ext autoreload\n",
    "%reload_ext autoreload\n",
    "%autoreload 2"
   ]
  },
  {
   "cell_type": "code",
   "execution_count": 2,
   "id": "cd390ace",
   "metadata": {},
   "outputs": [],
   "source": [
    "import os"
   ]
  },
  {
   "cell_type": "markdown",
   "id": "7f6be6de",
   "metadata": {},
   "source": [
    "Input Validation"
   ]
  },
  {
   "cell_type": "code",
   "execution_count": 3,
   "id": "7159ee71",
   "metadata": {},
   "outputs": [
    {
     "name": "stderr",
     "output_type": "stream",
     "text": [
      "/home/s.kamboj.400/acoustic_knowledge_discovery/.venv/lib/python3.12/site-packages/tqdm/auto.py:21: TqdmWarning: IProgress not found. Please update jupyter and ipywidgets. See https://ipywidgets.readthedocs.io/en/stable/user_install.html\n",
      "  from .autonotebook import tqdm as notebook_tqdm\n"
     ]
    }
   ],
   "source": [
    "from acoustic_knowledge_discovery import extractors"
   ]
  },
  {
   "cell_type": "code",
   "execution_count": 4,
   "id": "4533529c",
   "metadata": {},
   "outputs": [
    {
     "name": "stderr",
     "output_type": "stream",
     "text": [
      "Casting the dataset: 100%|██████████| 2/2 [00:00<00:00, 313.98 examples/s]\n",
      "Casting the dataset: 100%|██████████| 2/2 [00:00<00:00, 404.08 examples/s]\n",
      "Casting the dataset: 100%|██████████| 2/2 [00:00<00:00, 403.88 examples/s]\n",
      "Casting the dataset: 100%|██████████| 2/2 [00:00<00:00, 496.25 examples/s]\n",
      "Casting the dataset: 100%|██████████| 2/2 [00:00<00:00, 460.36 examples/s]\n",
      "Casting the dataset: 100%|██████████| 2/2 [00:00<00:00, 485.62 examples/s]"
     ]
    },
    {
     "name": "stdout",
     "output_type": "stream",
     "text": [
      "columns in file_ds: ['file_path', ' time_of_day', 'season', 'species']\n",
      "columns in anno_ds: ['file_path', 'offset_time', 'end_time', 'annotation', 'confidence', 'ID']\n"
     ]
    },
    {
     "name": "stderr",
     "output_type": "stream",
     "text": [
      "\n"
     ]
    }
   ],
   "source": [
    "extractor = extractors.Extractor(\n",
    "    \"/home/s.kamboj.400/acoustic_knowledge_discovery/sample_inputs/file.csv\", #file metadata csv\n",
    "    \"/home/s.kamboj.400/acoustic_knowledge_discovery/sample_inputs/anno.csv\", #annoations csv\n",
    "    \"/home/s.kamboj.400/acoustic_knowledge_discovery/sample_inputs/inputDtory\") #input directory with a files subdirectory for audio files & a XC-templates subdirectory for XC templates\n",
    "kd = extractor.forward()\n"
   ]
  },
  {
   "cell_type": "code",
   "execution_count": 5,
   "id": "e8b28c6a",
   "metadata": {},
   "outputs": [
    {
     "name": "stdout",
     "output_type": "stream",
     "text": [
      "{'file_path': 'XC233970 - Black-chinned Sparrow - Spizella atrogularis.mp3', 'offset_time': 0.0, 'end_time': 5.0, 'annotation': 'owl', 'confidence': 0.9, 'ID': 'XC233970 - Black-chinned Sparrow - Spizella atrogularis.mp3_0'}\n",
      "{'file_path': 'XC758442 - Common Blackbird - Turdus merula.wav', 'offset_time': 5.0, 'end_time': 7.0, 'annotation': 'bat', 'confidence': 0.8, 'ID': 'XC758442 - Common Blackbird - Turdus merula.wav_5'}\n"
     ]
    }
   ],
   "source": [
    "#verify properly loaded\n",
    "for row in kd.anno_ds:\n",
    "    print(row)"
   ]
  },
  {
   "cell_type": "markdown",
   "id": "7e867f0f",
   "metadata": {},
   "source": [
    "Feature PreProcessing"
   ]
  },
  {
   "cell_type": "code",
   "execution_count": 6,
   "id": "8f2de5fc",
   "metadata": {},
   "outputs": [
    {
     "name": "stdout",
     "output_type": "stream",
     "text": [
      "1 total templates\n",
      "Filtered down to 1 unique species templates\n",
      "  XC758442 - Common Blackbird - Turdus merula: XC758442 - Common Blackbird - Turdus merula.wav\n",
      "Progress: 1/1 templates completed (100.0%)\n",
      "Total matches found above the threshold of 0.6: 1\n"
     ]
    }
   ],
   "source": [
    "from acoustic_knowledge_discovery.features.feature_preprocessing_pipeline import FeatureSequential\n",
    "from acoustic_knowledge_discovery import features\n",
    "\n",
    "THRESHOLD = 0.6\n",
    "\n",
    "pipeline = FeatureSequential(\n",
    "    features.TemplateMatching(\n",
    "        extractor.base_dir / \"files\",\n",
    "        extractor.base_dir / \"XC-templates\",\n",
    "        THRESHOLD,\n",
    "    ),\n",
    "    # features.anotherFunctionThatInheretsFromFeaturePreprocessor\n",
    ")\n",
    "\n",
    "kd = pipeline.forward(kd)  "
   ]
  },
  {
   "cell_type": "code",
   "execution_count": null,
   "id": "9e506f46",
   "metadata": {},
   "outputs": [
    {
     "name": "stdout",
     "output_type": "stream",
     "text": [
      "{'file_path': 'XC233970 - Black-chinned Sparrow - Spizella atrogularis.mp3', 'offset_time': 0.0, 'end_time': 5.0, 'annotation': 'owl', 'confidence': 0.9, 'ID': 'XC233970 - Black-chinned Sparrow - Spizella atrogularis.mp3_0'}\n",
      "{'file_path': 'XC758442 - Common Blackbird - Turdus merula.wav', 'offset_time': 5.0, 'end_time': 7.0, 'annotation': 'bat', 'confidence': 0.8, 'ID': 'XC758442 - Common Blackbird - Turdus merula.wav_5'}\n",
      "{'file_path': 'XC758442 - Common Blackbird - Turdus merula.wav', 'offset_time': 0.046439909297052155, 'end_time': 5.14, 'annotation': 'XC758442 - Common Blackbird - Turdus merula', 'confidence': 0.6061245203018188, 'ID': 'XC758442 - Common Blackbird - Turdus merula.wav_0.046439909297052155'}\n"
     ]
    }
   ],
   "source": [
    "#verify properly loaded after feature extraction\n",
    "for row in kd.anno_ds:\n",
    "    print(row)"
   ]
  }
 ],
 "metadata": {
  "kernelspec": {
   "display_name": "acoustic-knowledge-discovery",
   "language": "python",
   "name": "python3"
  },
  "language_info": {
   "codemirror_mode": {
    "name": "ipython",
    "version": 3
   },
   "file_extension": ".py",
   "mimetype": "text/x-python",
   "name": "python",
   "nbconvert_exporter": "python",
   "pygments_lexer": "ipython3",
   "version": "3.12.3"
  }
 },
 "nbformat": 4,
 "nbformat_minor": 5
}
