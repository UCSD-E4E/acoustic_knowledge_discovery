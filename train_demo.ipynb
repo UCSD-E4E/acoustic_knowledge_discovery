{
 "cells": [
  {
   "cell_type": "code",
   "execution_count": 1,
   "id": "75af25f7",
   "metadata": {},
   "outputs": [],
   "source": [
    "%load_ext autoreload\n",
    "%reload_ext autoreload\n",
    "%autoreload 2"
   ]
  },
  {
   "cell_type": "code",
   "execution_count": 10,
   "id": "fef31537",
   "metadata": {},
   "outputs": [],
   "source": [
    "import librosa\n",
    "import numpy as np    \n",
    "import os\n",
    "import signal\n",
    "import subprocess\n",
    "import json\n",
    "import uuid\n",
    "from IPython.display import HTML\n",
    "import platform"
   ]
  },
  {
   "cell_type": "markdown",
   "id": "7f6be6de",
   "metadata": {},
   "source": [
    "Extractor (Input Validation, Chunking, Mapping From file_csv and annotations_csv to chunks)"
   ]
  },
  {
   "cell_type": "code",
   "execution_count": 3,
   "id": "7159ee71",
   "metadata": {},
   "outputs": [
    {
     "name": "stderr",
     "output_type": "stream",
     "text": [
      "/home/s.kamboj.400/acoustic_knowledge_discovery/.venv/lib/python3.12/site-packages/tqdm/auto.py:21: TqdmWarning: IProgress not found. Please update jupyter and ipywidgets. See https://ipywidgets.readthedocs.io/en/stable/user_install.html\n",
      "  from .autonotebook import tqdm as notebook_tqdm\n"
     ]
    }
   ],
   "source": [
    "from acoustic_knowledge_discovery import extractors"
   ]
  },
  {
   "cell_type": "code",
   "execution_count": 4,
   "id": "4533529c",
   "metadata": {},
   "outputs": [
    {
     "name": "stderr",
     "output_type": "stream",
     "text": [
      "Casting the dataset: 100%|██████████| 6/6 [00:00<00:00, 920.34 examples/s]\n"
     ]
    }
   ],
   "source": [
    "extractor = extractors.Extractor(\n",
    "    \"/home/s.kamboj.400/acoustic_knowledge_discovery/sample_inputs/file.csv\", #file metadata csv\n",
    "    \"/home/s.kamboj.400/acoustic_knowledge_discovery/sample_inputs/anno.csv\", #annoations csv\n",
    "    \"/home/s.kamboj.400/acoustic_knowledge_discovery/sample_inputs/inputDtory\",#input directory with a files subdirectory for audio files & a XC-templates subdirectory for XC templates\n",
    "    chunk_size = 5) #chunk size in seconds\n",
    "chunkDS = extractor.forward()\n"
   ]
  },
  {
   "cell_type": "code",
   "execution_count": 5,
   "id": "e8b28c6a",
   "metadata": {},
   "outputs": [
    {
     "name": "stdout",
     "output_type": "stream",
     "text": [
      "{'file_name': 'XC233970 - Black-chinned Sparrow - Spizella atrogularis.mp3', ' time_of_day': 'Morning', 'season': 'Rainy', 'species': ['Bird', 'Bat'], 'chunk_start': 0, 'chunk_id': 'XC233970 - Black-chinned Sparrow - Spizella atrogularis.mp3_0', 'Annotation': ['owl'], 'Confidence': [0.8999999761581421]}\n",
      "{'file_name': 'XC233970 - Black-chinned Sparrow - Spizella atrogularis.mp3', ' time_of_day': 'Morning', 'season': 'Rainy', 'species': ['Bird', 'Bat'], 'chunk_start': 5, 'chunk_id': 'XC233970 - Black-chinned Sparrow - Spizella atrogularis.mp3_5', 'Annotation': ['owl'], 'Confidence': [0.8999999761581421]}\n",
      "{'file_name': 'XC233970 - Black-chinned Sparrow - Spizella atrogularis.mp3', ' time_of_day': 'Morning', 'season': 'Rainy', 'species': ['Bird', 'Bat'], 'chunk_start': 10, 'chunk_id': 'XC233970 - Black-chinned Sparrow - Spizella atrogularis.mp3_10', 'Annotation': [], 'Confidence': []}\n",
      "{'file_name': 'XC233970 - Black-chinned Sparrow - Spizella atrogularis.mp3', ' time_of_day': 'Morning', 'season': 'Rainy', 'species': ['Bird', 'Bat'], 'chunk_start': 15, 'chunk_id': 'XC233970 - Black-chinned Sparrow - Spizella atrogularis.mp3_15', 'Annotation': [], 'Confidence': []}\n",
      "{'file_name': 'XC758442 - Common Blackbird - Turdus merula.wav', ' time_of_day': 'Afternoon', 'season': 'Dry', 'species': ['Bat', 'Blip'], 'chunk_start': 0, 'chunk_id': 'XC758442 - Common Blackbird - Turdus merula.wav_0', 'Annotation': [], 'Confidence': []}\n",
      "{'file_name': 'XC758442 - Common Blackbird - Turdus merula.wav', ' time_of_day': 'Afternoon', 'season': 'Dry', 'species': ['Bat', 'Blip'], 'chunk_start': 5, 'chunk_id': 'XC758442 - Common Blackbird - Turdus merula.wav_5', 'Annotation': ['bat'], 'Confidence': [0.800000011920929]}\n"
     ]
    },
    {
     "data": {
      "text/plain": [
       "DatasetDict({\n",
       "    train: Dataset({\n",
       "        features: ['file_name', ' time_of_day', 'season', 'species', 'chunk_start', 'chunk_id', 'Annotation', 'Confidence'],\n",
       "        num_rows: 6\n",
       "    })\n",
       "})"
      ]
     },
     "execution_count": 5,
     "metadata": {},
     "output_type": "execute_result"
    }
   ],
   "source": [
    "for row in chunkDS.chunk_ds[\"train\"]:\n",
    "    print(row)\n",
    "chunkDS.chunk_ds"
   ]
  },
  {
   "cell_type": "markdown",
   "id": "9cb9f7e1",
   "metadata": {},
   "source": [
    "Chunk DS Augmentations"
   ]
  },
  {
   "cell_type": "code",
   "execution_count": 6,
   "id": "3119ef5e",
   "metadata": {},
   "outputs": [],
   "source": [
    "def add_raw_audio_batched(batch):\n",
    "    raws = []\n",
    "    for fname, start in zip(batch[\"file_name\"], batch[\"chunk_start\"]):\n",
    "        y, _ = librosa.load(\n",
    "            extractor.base_dir / \"files\" / fname,\n",
    "            offset=float(start),\n",
    "            duration=float(extractor.chunk_size),\n",
    "            sr=None\n",
    "        )\n",
    "        raws.append(y.astype(np.float32))\n",
    "    # return list-of-arrays \n",
    "    return {\"raw_audio\": raws}\n"
   ]
  },
  {
   "cell_type": "code",
   "execution_count": 7,
   "id": "7afb4c98",
   "metadata": {},
   "outputs": [
    {
     "name": "stderr",
     "output_type": "stream",
     "text": [
      "Map (num_proc=4): 100%|██████████| 6/6 [00:01<00:00,  4.59 examples/s]\n"
     ]
    }
   ],
   "source": [
    "# Add raw audio column in dataset\n",
    "chunkDS.chunk_ds = chunkDS.chunk_ds.map(add_raw_audio_batched, \n",
    "                                        batched=True, \n",
    "                                        num_proc=4)"
   ]
  },
  {
   "cell_type": "code",
   "execution_count": 8,
   "id": "2c454408",
   "metadata": {},
   "outputs": [
    {
     "data": {
      "text/plain": [
       "DatasetDict({\n",
       "    train: Dataset({\n",
       "        features: ['file_name', ' time_of_day', 'season', 'species', 'chunk_start', 'chunk_id', 'Annotation', 'Confidence', 'raw_audio'],\n",
       "        num_rows: 6\n",
       "    })\n",
       "})"
      ]
     },
     "execution_count": 8,
     "metadata": {},
     "output_type": "execute_result"
    }
   ],
   "source": [
    "chunkDS.chunk_ds #make sure that new column raw_audio is added"
   ]
  },
  {
   "cell_type": "markdown",
   "id": "7e867f0f",
   "metadata": {},
   "source": [
    "File-level Operations"
   ]
  },
  {
   "cell_type": "code",
   "execution_count": 9,
   "id": "8f2de5fc",
   "metadata": {},
   "outputs": [
    {
     "name": "stdout",
     "output_type": "stream",
     "text": [
      "1 total templates\n",
      "Filtered down to 1 unique species templates\n",
      "  XC758442 - Common Blackbird - Turdus merula: XC758442 - Common Blackbird - Turdus merula.wav\n"
     ]
    },
    {
     "name": "stderr",
     "output_type": "stream",
     "text": [
      "Map: 100%|██████████| 6/6 [00:00<00:00, 548.75 examples/s]"
     ]
    },
    {
     "name": "stdout",
     "output_type": "stream",
     "text": [
      "Progress: 1/1 templates completed (100.0%)\n",
      "Total matches found above the threshold of 0.6: 1\n"
     ]
    },
    {
     "name": "stderr",
     "output_type": "stream",
     "text": [
      "\n"
     ]
    }
   ],
   "source": [
    "from acoustic_knowledge_discovery.features.feature_preprocessing_pipeline import FeatureSequential\n",
    "from acoustic_knowledge_discovery import features\n",
    "\n",
    "THRESHOLD = 0.6\n",
    "\n",
    "pipeline = FeatureSequential(\n",
    "    features.TemplateMatching(\n",
    "        extractor.base_dir / \"files\",\n",
    "        extractor.base_dir / \"XC-templates\",\n",
    "        THRESHOLD,\n",
    "        chunk_size=extractor.chunk_size\n",
    "    ),\n",
    "    # features.anotherFunctionThatInheretsFromFeaturePreprocessor\n",
    ")\n",
    "\n",
    "chunkDS = pipeline.forward(chunkDS)  "
   ]
  },
  {
   "cell_type": "code",
   "execution_count": 10,
   "id": "9e506f46",
   "metadata": {},
   "outputs": [
    {
     "name": "stdout",
     "output_type": "stream",
     "text": [
      "['owl'] [0.8999999761581421]\n",
      "['owl'] [0.8999999761581421]\n",
      "[] []\n",
      "[] []\n",
      "['XC758442 - Common Blackbird - Turdus merula'] [0.6061245203018188]\n",
      "['bat', 'XC758442 - Common Blackbird - Turdus merula'] [0.800000011920929, 0.6061245203018188]\n"
     ]
    }
   ],
   "source": [
    "#verify properly loaded after feature extraction\n",
    "for row in chunkDS.chunk_ds[\"train\"]:\n",
    "    print(row[\"Annotation\"], row[\"Confidence\"])"
   ]
  },
  {
   "cell_type": "markdown",
   "id": "97658473",
   "metadata": {},
   "source": [
    "Chunk-level Operations"
   ]
  },
  {
   "cell_type": "code",
   "execution_count": 25,
   "id": "3ddbd094",
   "metadata": {},
   "outputs": [
    {
     "name": "stderr",
     "output_type": "stream",
     "text": [
      "Map (num_proc=4): 100%|██████████| 6/6 [00:09<00:00,  1.55s/ examples]\n"
     ]
    }
   ],
   "source": [
    "#Insert EGCI\n",
    "egci = features.EGCI()\n",
    "chunkDS= egci(chunkDS)\n"
   ]
  },
  {
   "cell_type": "code",
   "execution_count": 26,
   "id": "022c3cbf",
   "metadata": {},
   "outputs": [
    {
     "name": "stdout",
     "output_type": "stream",
     "text": [
      "XC233970 - Black-chinned Sparrow - Spizella atrogularis.mp3_0 [0.6825488342933071, 0.4642582997587565]\n",
      "XC233970 - Black-chinned Sparrow - Spizella atrogularis.mp3_5 [0.6520874520975383, 0.3366618586753143]\n",
      "XC233970 - Black-chinned Sparrow - Spizella atrogularis.mp3_10 [0.6374639176949186, 0.4597440843424236]\n",
      "XC233970 - Black-chinned Sparrow - Spizella atrogularis.mp3_15 [0.5778173748528687, 0.43583888954253247]\n",
      "XC758442 - Common Blackbird - Turdus merula.wav_0 [0.7267189092284931, 0.3654319916606137]\n",
      "XC758442 - Common Blackbird - Turdus merula.wav_5 [0.8713889758341212, 0.19875033527163866]\n"
     ]
    },
    {
     "data": {
      "text/plain": [
       "DatasetDict({\n",
       "    train: Dataset({\n",
       "        features: ['file_name', ' time_of_day', 'season', 'species', 'chunk_start', 'chunk_id', 'Annotation', 'Confidence', 'raw_audio', 'EGCI'],\n",
       "        num_rows: 6\n",
       "    })\n",
       "})"
      ]
     },
     "execution_count": 26,
     "metadata": {},
     "output_type": "execute_result"
    }
   ],
   "source": [
    "#verify EGCI column properly added\n",
    "for row in chunkDS.chunk_ds[\"train\"]:\n",
    "    print(row[\"chunk_id\"], row[\"EGCI\"])\n",
    "chunkDS.chunk_ds"
   ]
  },
  {
   "cell_type": "markdown",
   "id": "b0b02fcd",
   "metadata": {},
   "source": [
    "Binning!"
   ]
  },
  {
   "cell_type": "code",
   "execution_count": 27,
   "id": "1cdeff7f",
   "metadata": {},
   "outputs": [
    {
     "name": "stderr",
     "output_type": "stream",
     "text": [
      "Casting the dataset: 100%|██████████| 6/6 [00:00<00:00, 450.39 examples/s]\n",
      "Map: 100%|██████████| 6/6 [00:00<00:00, 497.61 examples/s]\n"
     ]
    },
    {
     "name": "stdout",
     "output_type": "stream",
     "text": [
      "x is [0.68254883 0.65208745 0.63746392 0.57781737 0.72671891 0.87138898], x_lo is 0.0, x_hi is 34.0 \n",
      "y is [0.4642583  0.33666186 0.45974408 0.43583889 0.36543199 0.19875034], y_lo is 0.0, y_hi is 0.34 \n",
      "x is [0.68254883 0.65208745 0.63746392 0.57781737 0.72671891 0.87138898], x_lo is 0.34, x_hi is 0.67 \n",
      "y is [0.4642583  0.33666186 0.45974408 0.43583889 0.36543199 0.19875034], y_lo is 0.34, y_hi is 0.67 \n",
      "x is [0.68254883 0.65208745 0.63746392 0.57781737 0.72671891 0.87138898], x_lo is 0.67, x_hi is 1.0 \n",
      "y is [0.4642583  0.33666186 0.45974408 0.43583889 0.36543199 0.19875034], y_lo is 0.67, y_hi is 1.0 \n"
     ]
    },
    {
     "name": "stderr",
     "output_type": "stream",
     "text": [
      "Casting the dataset: 100%|██████████| 6/6 [00:00<00:00, 744.00 examples/s]\n"
     ]
    }
   ],
   "source": [
    "from acoustic_knowledge_discovery.postprocessing import MakeBins2dFloat\n",
    "makebins = MakeBins2dFloat(chunkDS)\n",
    "egci_bin={\n",
    "    \"low\": ( (0.0, 34), (0.0,0.34) ), \n",
    "    \"medium\": ((0.34,0.67),(0.34,0.67)), \n",
    "    \"high\": ((0.67,1),(0.67,1))\n",
    "}\n",
    "\n",
    "chunkDS = makebins(\"EGCI\", egci_bin)"
   ]
  },
  {
   "cell_type": "code",
   "execution_count": 24,
   "id": "30265913",
   "metadata": {},
   "outputs": [
    {
     "name": "stdout",
     "output_type": "stream",
     "text": [
      "XC233970 - Black-chinned Sparrow - Spizella atrogularis.mp3_0 Other\n",
      "XC233970 - Black-chinned Sparrow - Spizella atrogularis.mp3_5 low\n",
      "XC233970 - Black-chinned Sparrow - Spizella atrogularis.mp3_10 medium\n",
      "XC233970 - Black-chinned Sparrow - Spizella atrogularis.mp3_15 medium\n",
      "XC758442 - Common Blackbird - Turdus merula.wav_0 Other\n",
      "XC758442 - Common Blackbird - Turdus merula.wav_5 low\n"
     ]
    },
    {
     "data": {
      "text/plain": [
       "DatasetDict({\n",
       "    train: Dataset({\n",
       "        features: ['file_name', ' time_of_day', 'season', 'species', 'chunk_start', 'chunk_id', 'Annotation', 'Confidence', 'raw_audio', 'EGCI'],\n",
       "        num_rows: 6\n",
       "    })\n",
       "})"
      ]
     },
     "execution_count": 24,
     "metadata": {},
     "output_type": "execute_result"
    }
   ],
   "source": [
    "for row in chunkDS.chunk_ds[\"train\"]:\n",
    "    label_str = chunkDS.chunk_ds[\"train\"].features[\"EGCI\"].int2str(row[\"EGCI\"])\n",
    "    print(row[\"chunk_id\"], label_str)\n",
    "chunkDS.chunk_ds"
   ]
  },
  {
   "cell_type": "code",
   "execution_count": null,
   "id": "22b24521",
   "metadata": {},
   "outputs": [
    {
     "name": "stderr",
     "output_type": "stream",
     "text": [
      "Casting the dataset: 100%|██████████| 6/6 [00:00<00:00, 770.94 examples/s]\n",
      "Map: 100%|██████████| 6/6 [00:00<00:00, 563.06 examples/s]\n",
      "Casting the dataset: 100%|██████████| 6/6 [00:00<00:00, 711.82 examples/s]\n"
     ]
    }
   ],
   "source": [
    "# # Tests that MakeBins1dFloat does work, but it does not make sense to use it on this dataset\n",
    "# from acoustic_knowledge_discovery.postprocessing import MakeBins1dFloat\n",
    "# makebins1d = MakeBins1dFloat(chunkDS)\n",
    "# OneDBin={\n",
    "#     \"low\": (0, 5) , \n",
    "#     \"medium\": (5, 10), \n",
    "#     \"high\": (10, 15)\n",
    "# }\n",
    "\n",
    "# chunkDS = makebins1d(\"chunk_start\", OneDBin)\n",
    "\n",
    "# for row in chunkDS.chunk_ds[\"train\"]:\n",
    "#     print(row[\"chunk_id\"], row[\"chunk_start\"])\n",
    "# chunkDS.chunk_ds"
   ]
  },
  {
   "cell_type": "code",
   "execution_count": null,
   "id": "193eed6a",
   "metadata": {},
   "outputs": [],
   "source": [
    "#in graph format, let them choose which columns to exclude (can submit empty list if none) *definitely exclude raw_audio"
   ]
  },
  {
   "cell_type": "code",
   "execution_count": null,
   "id": "e5dcb549",
   "metadata": {},
   "outputs": [],
   "source": [
    "# sean's code!!\n",
    "# assume that the output is in d3-visualization/graph_representation.json"
   ]
  },
  {
   "cell_type": "markdown",
   "id": "4f32ae07",
   "metadata": {},
   "source": [
    "Create d3 visualization"
   ]
  },
  {
   "cell_type": "code",
   "execution_count": null,
   "id": "d83648f8",
   "metadata": {},
   "outputs": [
    {
     "name": "stdout",
     "output_type": "stream",
     "text": [
      "http-server running on http://127.0.0.1:8080 (PID=17977)\n",
      "Server started. PGID=17977\n"
     ]
    },
    {
     "name": "stdout",
     "output_type": "stream",
     "text": [
      "\u001b[33mStarting up http-server, serving \u001b[39m\u001b[36m./\u001b[39m\n",
      "\u001b[33m\u001b[39m\n",
      "\u001b[33mhttp-server version: \u001b[39m\u001b[36m14.1.1\u001b[39m\n",
      "\u001b[33m\u001b[39m\n",
      "\u001b[33mhttp-server settings: \u001b[39m\n",
      "\u001b[33mCORS: \u001b[39m\u001b[31mdisabled\u001b[39m\n",
      "\u001b[33mCache: \u001b[39m\u001b[36m3600 seconds\u001b[39m\n",
      "\u001b[33mConnection Timeout: \u001b[39m\u001b[36m120 seconds\u001b[39m\n",
      "\u001b[33mDirectory Listings: \u001b[39m\u001b[36mvisible\u001b[39m\n",
      "\u001b[33mAutoIndex: \u001b[39m\u001b[36mvisible\u001b[39m\n",
      "\u001b[33mServe GZIP Files: \u001b[39m\u001b[31mfalse\u001b[39m\n",
      "\u001b[33mServe Brotli Files: \u001b[39m\u001b[31mfalse\u001b[39m\n",
      "\u001b[33mDefault File Extension: \u001b[39m\u001b[31mnone\u001b[39m\n",
      "\u001b[33m\u001b[39m\n",
      "\u001b[33mAvailable on:\u001b[39m\n",
      "  http://127.0.0.1:\u001b[32m8080\u001b[39m\n",
      "  http://192.168.1.243:\u001b[32m8080\u001b[39m\n",
      "  http://137.110.34.249:\u001b[32m8080\u001b[39m\n",
      "Hit CTRL-C to stop the server\n",
      "\n"
     ]
    }
   ],
   "source": [
    "#eventual TODO : logic for if port 8080 is in use\n",
    "command = [\"npx\", \"http-server\", \"-p\", \"8080\"] \n",
    "target_directory = \"acoustic_knowledge_discovery/d3-visualization/\"\n",
    "\n",
    "if platform.system() == \"Windows\":\n",
    "    # Windows\n",
    "    process = subprocess.Popen(\n",
    "        command,\n",
    "        cwd=target_directory,\n",
    "        creationflags=subprocess.CREATE_NEW_PROCESS_GROUP\n",
    "    )\n",
    "else:\n",
    "    # Mac/Linux (hopefully it encompasses all flavors of linux)\n",
    "    process = subprocess.Popen(\n",
    "        command,\n",
    "        cwd=target_directory,\n",
    "        preexec_fn=os.setsid\n",
    "    )\n",
    "\n",
    "print(f\"http-server running on http://127.0.0.1:8080 (PID={process.pid})\")\n",
    "\n",
    "# Persist the group leader PID so you can kill it later even after kernel restarts & kill the entire tree\n",
    "with open(\"/tmp/http_server_pid.json\", \"w\") as f:\n",
    "    json.dump({\"pgid\": process.pid}, f)\n",
    "\n",
    "print(f\"Server started. PGID={process.pid}\")"
   ]
  },
  {
   "cell_type": "code",
   "execution_count": null,
   "id": "cb92afa3",
   "metadata": {},
   "outputs": [
    {
     "data": {
      "text/html": [
       "\n",
       "<iframe style=\"background-color: white;\" \n",
       "        src=\"http://127.0.0.1:8080/?nocache=d6f8cf7a-c7e4-4c43-8fa7-ad30355d8f35\" \n",
       "        width=\"1200\" height=\"1000\"></iframe>\n"
      ],
      "text/plain": [
       "<IPython.core.display.HTML object>"
      ]
     },
     "execution_count": 12,
     "metadata": {},
     "output_type": "execute_result"
    },
    {
     "name": "stdout",
     "output_type": "stream",
     "text": [
      "[2025-09-10T02:19:26.284Z]  \"\u001b[36mGET\u001b[39m \u001b[36m/?nocache=d6f8cf7a-c7e4-4c43-8fa7-ad30355d8f35\u001b[39m\" \"Mozilla/5.0 (Macintosh; Intel Mac OS X 10_15_7) AppleWebKit/537.36 (KHTML, like Gecko) Code/1.103.2 Chrome/138.0.7204.100 Electron/37.2.3 Safari/537.36\"\n"
     ]
    }
   ],
   "source": [
    "#nocache ensures that the frame output is never cached because it is pulling from unique uuid link\n",
    "HTML(f\"\"\"\n",
    "<iframe style=\"background-color: white;\" \n",
    "        src=\"http://127.0.0.1:8080/?nocache={uuid.uuid4()}\" \n",
    "        width=\"1200\" height=\"1000\"></iframe>\n",
    "\"\"\")\n"
   ]
  },
  {
   "cell_type": "code",
   "execution_count": 13,
   "id": "945ee576",
   "metadata": {},
   "outputs": [
    {
     "name": "stdout",
     "output_type": "stream",
     "text": [
      "\u001b[31mhttp-server stopped.\u001b[39m\n"
     ]
    }
   ],
   "source": [
    "# Kill the entire process group (gracefully) to stop d3vis port\n",
    "with open(\"/tmp/http_server_pid.json\") as f:\n",
    "    pgid = json.load(f)[\"pgid\"]\n",
    "\n",
    "\n",
    "os.killpg(pgid, signal.SIGTERM)"
   ]
  }
 ],
 "metadata": {
  "kernelspec": {
   "display_name": "acoustic-knowledge-discovery",
   "language": "python",
   "name": "python3"
  },
  "language_info": {
   "codemirror_mode": {
    "name": "ipython",
    "version": 3
   },
   "file_extension": ".py",
   "mimetype": "text/x-python",
   "name": "python",
   "nbconvert_exporter": "python",
   "pygments_lexer": "ipython3",
   "version": "3.12.7"
  }
 },
 "nbformat": 4,
 "nbformat_minor": 5
}
