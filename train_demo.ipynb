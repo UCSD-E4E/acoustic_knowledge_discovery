{
 "cells": [
  {
   "cell_type": "code",
   "execution_count": 1,
   "id": "75af25f7",
   "metadata": {},
   "outputs": [],
   "source": [
    "%load_ext autoreload\n",
    "%reload_ext autoreload\n",
    "%autoreload 2"
   ]
  },
  {
   "cell_type": "markdown",
   "id": "7f6be6de",
   "metadata": {},
   "source": [
    "Extractor (Input Validation, Chunking, Mapping From file_csv and annotations_csv to chunks)"
   ]
  },
  {
   "cell_type": "code",
   "execution_count": 2,
   "id": "7159ee71",
   "metadata": {},
   "outputs": [
    {
     "name": "stderr",
     "output_type": "stream",
     "text": [
      "/home/s.kamboj.400/acoustic_knowledge_discovery/.venv/lib/python3.12/site-packages/tqdm/auto.py:21: TqdmWarning: IProgress not found. Please update jupyter and ipywidgets. See https://ipywidgets.readthedocs.io/en/stable/user_install.html\n",
      "  from .autonotebook import tqdm as notebook_tqdm\n"
     ]
    }
   ],
   "source": [
    "from acoustic_knowledge_discovery import extractors"
   ]
  },
  {
   "cell_type": "code",
   "execution_count": 3,
   "id": "4533529c",
   "metadata": {},
   "outputs": [
    {
     "name": "stderr",
     "output_type": "stream",
     "text": [
      "Casting the dataset: 100%|██████████| 6/6 [00:00<00:00, 849.65 examples/s]\n"
     ]
    }
   ],
   "source": [
    "extractor = extractors.Extractor(\n",
    "    \"/home/s.kamboj.400/acoustic_knowledge_discovery/sample_inputs/file.csv\", #file metadata csv\n",
    "    \"/home/s.kamboj.400/acoustic_knowledge_discovery/sample_inputs/anno.csv\", #annoations csv\n",
    "    \"/home/s.kamboj.400/acoustic_knowledge_discovery/sample_inputs/inputDtory\",#input directory with a files subdirectory for audio files & a XC-templates subdirectory for XC templates\n",
    "    chunk_size = 5) #chunk size in seconds\n",
    "chunkDS = extractor.forward()\n"
   ]
  },
  {
   "cell_type": "code",
   "execution_count": 4,
   "id": "e8b28c6a",
   "metadata": {},
   "outputs": [
    {
     "name": "stdout",
     "output_type": "stream",
     "text": [
      "{'file_name': 'XC233970 - Black-chinned Sparrow - Spizella atrogularis.mp3', ' time_of_day': 'Morning', 'season': 'Rainy', 'species': ['Bird', 'Bat'], 'chunk_start': 0, 'chunk_id': 'XC233970 - Black-chinned Sparrow - Spizella atrogularis_0', 'Annotation': ['owl'], 'Confidence': [0.8999999761581421]}\n",
      "{'file_name': 'XC233970 - Black-chinned Sparrow - Spizella atrogularis.mp3', ' time_of_day': 'Morning', 'season': 'Rainy', 'species': ['Bird', 'Bat'], 'chunk_start': 5, 'chunk_id': 'XC233970 - Black-chinned Sparrow - Spizella atrogularis_5', 'Annotation': ['owl'], 'Confidence': [0.8999999761581421]}\n",
      "{'file_name': 'XC233970 - Black-chinned Sparrow - Spizella atrogularis.mp3', ' time_of_day': 'Morning', 'season': 'Rainy', 'species': ['Bird', 'Bat'], 'chunk_start': 10, 'chunk_id': 'XC233970 - Black-chinned Sparrow - Spizella atrogularis_10', 'Annotation': [], 'Confidence': []}\n",
      "{'file_name': 'XC233970 - Black-chinned Sparrow - Spizella atrogularis.mp3', ' time_of_day': 'Morning', 'season': 'Rainy', 'species': ['Bird', 'Bat'], 'chunk_start': 15, 'chunk_id': 'XC233970 - Black-chinned Sparrow - Spizella atrogularis_15', 'Annotation': [], 'Confidence': []}\n",
      "{'file_name': 'XC758442 - Common Blackbird - Turdus merula.wav', ' time_of_day': 'Afternoon', 'season': 'Dry', 'species': ['Bat', 'Blip'], 'chunk_start': 0, 'chunk_id': 'XC758442 - Common Blackbird - Turdus merula_0', 'Annotation': [], 'Confidence': []}\n",
      "{'file_name': 'XC758442 - Common Blackbird - Turdus merula.wav', ' time_of_day': 'Afternoon', 'season': 'Dry', 'species': ['Bat', 'Blip'], 'chunk_start': 5, 'chunk_id': 'XC758442 - Common Blackbird - Turdus merula_5', 'Annotation': ['bat'], 'Confidence': [0.800000011920929]}\n"
     ]
    },
    {
     "data": {
      "text/plain": [
       "DatasetDict({\n",
       "    train: Dataset({\n",
       "        features: ['file_name', ' time_of_day', 'season', 'species', 'chunk_start', 'chunk_id', 'Annotation', 'Confidence'],\n",
       "        num_rows: 6\n",
       "    })\n",
       "})"
      ]
     },
     "execution_count": 4,
     "metadata": {},
     "output_type": "execute_result"
    }
   ],
   "source": [
    "for row in chunkDS.chunk_ds[\"train\"]:\n",
    "    print(row)\n",
    "chunkDS.chunk_ds"
   ]
  },
  {
   "cell_type": "markdown",
   "id": "7e867f0f",
   "metadata": {},
   "source": [
    "File-level Operations"
   ]
  },
  {
   "cell_type": "code",
   "execution_count": 5,
   "id": "8f2de5fc",
   "metadata": {},
   "outputs": [
    {
     "name": "stdout",
     "output_type": "stream",
     "text": [
      "1 total templates\n",
      "Filtered down to 1 unique species templates\n",
      "  XC758442 - Common Blackbird - Turdus merula: XC758442 - Common Blackbird - Turdus merula.wav\n"
     ]
    },
    {
     "name": "stderr",
     "output_type": "stream",
     "text": [
      "Map: 100%|██████████| 6/6 [00:00<00:00, 748.14 examples/s]"
     ]
    },
    {
     "name": "stdout",
     "output_type": "stream",
     "text": [
      "Progress: 1/1 templates completed (100.0%)\n",
      "Total matches found above the threshold of 0.6: 1\n"
     ]
    },
    {
     "name": "stderr",
     "output_type": "stream",
     "text": [
      "\n"
     ]
    }
   ],
   "source": [
    "from acoustic_knowledge_discovery.features.feature_preprocessing_pipeline import FeatureSequential\n",
    "from acoustic_knowledge_discovery import features\n",
    "\n",
    "THRESHOLD = 0.6\n",
    "\n",
    "pipeline = FeatureSequential(\n",
    "    features.TemplateMatching(\n",
    "        extractor.base_dir / \"files\",\n",
    "        extractor.base_dir / \"XC-templates\",\n",
    "        THRESHOLD,\n",
    "        chunk_size=extractor.chunk_size\n",
    "    ),\n",
    "    # features.anotherFunctionThatInheretsFromFeaturePreprocessor\n",
    ")\n",
    "\n",
    "chunkDS = pipeline.forward(chunkDS)  "
   ]
  },
  {
   "cell_type": "code",
   "execution_count": 6,
   "id": "9e506f46",
   "metadata": {},
   "outputs": [
    {
     "name": "stdout",
     "output_type": "stream",
     "text": [
      "{'file_name': 'XC233970 - Black-chinned Sparrow - Spizella atrogularis.mp3', ' time_of_day': 'Morning', 'season': 'Rainy', 'species': ['Bird', 'Bat'], 'chunk_start': 0, 'chunk_id': 'XC233970 - Black-chinned Sparrow - Spizella atrogularis_0', 'Annotation': ['owl'], 'Confidence': [0.8999999761581421]}\n",
      "{'file_name': 'XC233970 - Black-chinned Sparrow - Spizella atrogularis.mp3', ' time_of_day': 'Morning', 'season': 'Rainy', 'species': ['Bird', 'Bat'], 'chunk_start': 5, 'chunk_id': 'XC233970 - Black-chinned Sparrow - Spizella atrogularis_5', 'Annotation': ['owl'], 'Confidence': [0.8999999761581421]}\n",
      "{'file_name': 'XC233970 - Black-chinned Sparrow - Spizella atrogularis.mp3', ' time_of_day': 'Morning', 'season': 'Rainy', 'species': ['Bird', 'Bat'], 'chunk_start': 10, 'chunk_id': 'XC233970 - Black-chinned Sparrow - Spizella atrogularis_10', 'Annotation': [], 'Confidence': []}\n",
      "{'file_name': 'XC233970 - Black-chinned Sparrow - Spizella atrogularis.mp3', ' time_of_day': 'Morning', 'season': 'Rainy', 'species': ['Bird', 'Bat'], 'chunk_start': 15, 'chunk_id': 'XC233970 - Black-chinned Sparrow - Spizella atrogularis_15', 'Annotation': [], 'Confidence': []}\n",
      "{'file_name': 'XC758442 - Common Blackbird - Turdus merula.wav', ' time_of_day': 'Afternoon', 'season': 'Dry', 'species': ['Bat', 'Blip'], 'chunk_start': 0, 'chunk_id': 'XC758442 - Common Blackbird - Turdus merula_0', 'Annotation': ['XC758442 - Common Blackbird - Turdus merula'], 'Confidence': [0.6061245203018188]}\n",
      "{'file_name': 'XC758442 - Common Blackbird - Turdus merula.wav', ' time_of_day': 'Afternoon', 'season': 'Dry', 'species': ['Bat', 'Blip'], 'chunk_start': 5, 'chunk_id': 'XC758442 - Common Blackbird - Turdus merula_5', 'Annotation': ['bat', 'XC758442 - Common Blackbird - Turdus merula'], 'Confidence': [0.800000011920929, 0.6061245203018188]}\n"
     ]
    }
   ],
   "source": [
    "#verify properly loaded after feature extraction\n",
    "for row in chunkDS.chunk_ds[\"train\"]:\n",
    "    print(row)"
   ]
  },
  {
   "cell_type": "markdown",
   "id": "97658473",
   "metadata": {},
   "source": [
    "Chunk-level Operations"
   ]
  },
  {
   "cell_type": "code",
   "execution_count": 12,
   "id": "3ddbd094",
   "metadata": {},
   "outputs": [],
   "source": [
    "#Insert EGCI"
   ]
  },
  {
   "cell_type": "markdown",
   "id": "b0b02fcd",
   "metadata": {},
   "source": [
    "Canonical Graph Representation"
   ]
  },
  {
   "cell_type": "code",
   "execution_count": null,
   "id": "1cdeff7f",
   "metadata": {},
   "outputs": [],
   "source": []
  }
 ],
 "metadata": {
  "kernelspec": {
   "display_name": "acoustic-knowledge-discovery",
   "language": "python",
   "name": "python3"
  },
  "language_info": {
   "codemirror_mode": {
    "name": "ipython",
    "version": 3
   },
   "file_extension": ".py",
   "mimetype": "text/x-python",
   "name": "python",
   "nbconvert_exporter": "python",
   "pygments_lexer": "ipython3",
   "version": "3.12.3"
  }
 },
 "nbformat": 4,
 "nbformat_minor": 5
}
