{
 "cells": [
  {
   "cell_type": "code",
   "execution_count": 20,
   "id": "75af25f7",
   "metadata": {},
   "outputs": [
    {
     "name": "stdout",
     "output_type": "stream",
     "text": [
      "The autoreload extension is already loaded. To reload it, use:\n",
      "  %reload_ext autoreload\n"
     ]
    }
   ],
   "source": [
    "%load_ext autoreload\n",
    "%reload_ext autoreload\n",
    "%autoreload 2"
   ]
  },
  {
   "cell_type": "code",
   "execution_count": 21,
   "id": "fef31537",
   "metadata": {},
   "outputs": [],
   "source": [
    "import librosa\n",
    "import numpy as np"
   ]
  },
  {
   "cell_type": "markdown",
   "id": "7f6be6de",
   "metadata": {},
   "source": [
    "Extractor (Input Validation, Chunking, Mapping From file_csv and annotations_csv to chunks)"
   ]
  },
  {
   "cell_type": "code",
   "execution_count": 22,
   "id": "7159ee71",
   "metadata": {},
   "outputs": [],
   "source": [
    "from acoustic_knowledge_discovery import extractors"
   ]
  },
  {
   "cell_type": "code",
   "execution_count": 23,
   "id": "4533529c",
   "metadata": {},
   "outputs": [
    {
     "name": "stderr",
     "output_type": "stream",
     "text": [
      "Casting the dataset: 100%|██████████| 6/6 [00:00<00:00, 881.03 examples/s]\n"
     ]
    }
   ],
   "source": [
    "extractor = extractors.Extractor(\n",
    "    \"/home/s.kamboj.400/acoustic_knowledge_discovery/sample_inputs/file.csv\", #file metadata csv\n",
    "    \"/home/s.kamboj.400/acoustic_knowledge_discovery/sample_inputs/anno.csv\", #annoations csv\n",
    "    \"/home/s.kamboj.400/acoustic_knowledge_discovery/sample_inputs/inputDtory\",#input directory with a files subdirectory for audio files & a XC-templates subdirectory for XC templates\n",
    "    chunk_size = 5) #chunk size in seconds\n",
    "chunkDS = extractor.forward()\n"
   ]
  },
  {
   "cell_type": "code",
   "execution_count": 24,
   "id": "e8b28c6a",
   "metadata": {},
   "outputs": [
    {
     "name": "stdout",
     "output_type": "stream",
     "text": [
      "{'file_name': 'XC233970 - Black-chinned Sparrow - Spizella atrogularis.mp3', ' time_of_day': 'Morning', 'season': 'Rainy', 'species': ['Bird', 'Bat'], 'chunk_start': 0, 'chunk_id': 'XC233970 - Black-chinned Sparrow - Spizella atrogularis.mp3_0', 'Annotation': ['owl'], 'Confidence': [0.8999999761581421]}\n",
      "{'file_name': 'XC233970 - Black-chinned Sparrow - Spizella atrogularis.mp3', ' time_of_day': 'Morning', 'season': 'Rainy', 'species': ['Bird', 'Bat'], 'chunk_start': 5, 'chunk_id': 'XC233970 - Black-chinned Sparrow - Spizella atrogularis.mp3_5', 'Annotation': ['owl'], 'Confidence': [0.8999999761581421]}\n",
      "{'file_name': 'XC233970 - Black-chinned Sparrow - Spizella atrogularis.mp3', ' time_of_day': 'Morning', 'season': 'Rainy', 'species': ['Bird', 'Bat'], 'chunk_start': 10, 'chunk_id': 'XC233970 - Black-chinned Sparrow - Spizella atrogularis.mp3_10', 'Annotation': [], 'Confidence': []}\n",
      "{'file_name': 'XC233970 - Black-chinned Sparrow - Spizella atrogularis.mp3', ' time_of_day': 'Morning', 'season': 'Rainy', 'species': ['Bird', 'Bat'], 'chunk_start': 15, 'chunk_id': 'XC233970 - Black-chinned Sparrow - Spizella atrogularis.mp3_15', 'Annotation': [], 'Confidence': []}\n",
      "{'file_name': 'XC758442 - Common Blackbird - Turdus merula.wav', ' time_of_day': 'Afternoon', 'season': 'Dry', 'species': ['Bat', 'Blip'], 'chunk_start': 0, 'chunk_id': 'XC758442 - Common Blackbird - Turdus merula.wav_0', 'Annotation': [], 'Confidence': []}\n",
      "{'file_name': 'XC758442 - Common Blackbird - Turdus merula.wav', ' time_of_day': 'Afternoon', 'season': 'Dry', 'species': ['Bat', 'Blip'], 'chunk_start': 5, 'chunk_id': 'XC758442 - Common Blackbird - Turdus merula.wav_5', 'Annotation': ['bat'], 'Confidence': [0.800000011920929]}\n"
     ]
    },
    {
     "data": {
      "text/plain": [
       "DatasetDict({\n",
       "    train: Dataset({\n",
       "        features: ['file_name', ' time_of_day', 'season', 'species', 'chunk_start', 'chunk_id', 'Annotation', 'Confidence'],\n",
       "        num_rows: 6\n",
       "    })\n",
       "})"
      ]
     },
     "execution_count": 24,
     "metadata": {},
     "output_type": "execute_result"
    }
   ],
   "source": [
    "for row in chunkDS.chunk_ds[\"train\"]:\n",
    "    print(row)\n",
    "chunkDS.chunk_ds"
   ]
  },
  {
   "cell_type": "markdown",
   "id": "9cb9f7e1",
   "metadata": {},
   "source": [
    "Chunk DS Augmentations"
   ]
  },
  {
   "cell_type": "code",
   "execution_count": 25,
   "id": "3119ef5e",
   "metadata": {},
   "outputs": [],
   "source": [
    "def add_raw_audio_batched(batch):\n",
    "    raws = []\n",
    "    for fname, start in zip(batch[\"file_name\"], batch[\"chunk_start\"]):\n",
    "        y, _ = librosa.load(\n",
    "            extractor.base_dir / \"files\" / fname,\n",
    "            offset=float(start),\n",
    "            duration=float(extractor.chunk_size),\n",
    "            sr=None\n",
    "        )\n",
    "        raws.append(y.astype(np.float32))\n",
    "    # return list-of-arrays (Arrow will store as list<primitive>)\n",
    "    return {\"raw_audio\": raws}\n"
   ]
  },
  {
   "cell_type": "code",
   "execution_count": null,
   "id": "7afb4c98",
   "metadata": {},
   "outputs": [
    {
     "name": "stderr",
     "output_type": "stream",
     "text": [
      "Map (num_proc=4): 100%|██████████| 6/6 [00:00<00:00, 18.58 examples/s]\n"
     ]
    }
   ],
   "source": [
    "# Add raw audio column in dataset\n",
    "chunkDS.chunk_ds = chunkDS.chunk_ds.map(add_raw_audio_batched, \n",
    "                                        batched=True, \n",
    "                                        num_proc=4)"
   ]
  },
  {
   "cell_type": "code",
   "execution_count": 27,
   "id": "2c454408",
   "metadata": {},
   "outputs": [
    {
     "data": {
      "text/plain": [
       "DatasetDict({\n",
       "    train: Dataset({\n",
       "        features: ['file_name', ' time_of_day', 'season', 'species', 'chunk_start', 'chunk_id', 'Annotation', 'Confidence', 'raw_audio'],\n",
       "        num_rows: 6\n",
       "    })\n",
       "})"
      ]
     },
     "execution_count": 27,
     "metadata": {},
     "output_type": "execute_result"
    }
   ],
   "source": [
    "chunkDS.chunk_ds #make sure that new column raw_audio is added"
   ]
  },
  {
   "cell_type": "markdown",
   "id": "7e867f0f",
   "metadata": {},
   "source": [
    "File-level Operations"
   ]
  },
  {
   "cell_type": "code",
   "execution_count": 28,
   "id": "8f2de5fc",
   "metadata": {},
   "outputs": [
    {
     "name": "stdout",
     "output_type": "stream",
     "text": [
      "1 total templates\n",
      "Filtered down to 1 unique species templates\n",
      "  XC758442 - Common Blackbird - Turdus merula: XC758442 - Common Blackbird - Turdus merula.wav\n"
     ]
    },
    {
     "name": "stderr",
     "output_type": "stream",
     "text": [
      "Map: 100%|██████████| 6/6 [00:00<00:00, 370.69 examples/s]"
     ]
    },
    {
     "name": "stdout",
     "output_type": "stream",
     "text": [
      "Progress: 1/1 templates completed (100.0%)\n",
      "Total matches found above the threshold of 0.6: 1\n"
     ]
    },
    {
     "name": "stderr",
     "output_type": "stream",
     "text": [
      "\n"
     ]
    }
   ],
   "source": [
    "from acoustic_knowledge_discovery.features.feature_preprocessing_pipeline import FeatureSequential\n",
    "from acoustic_knowledge_discovery import features\n",
    "\n",
    "THRESHOLD = 0.6\n",
    "\n",
    "pipeline = FeatureSequential(\n",
    "    features.TemplateMatching(\n",
    "        extractor.base_dir / \"files\",\n",
    "        extractor.base_dir / \"XC-templates\",\n",
    "        THRESHOLD,\n",
    "        chunk_size=extractor.chunk_size\n",
    "    ),\n",
    "    # features.anotherFunctionThatInheretsFromFeaturePreprocessor\n",
    ")\n",
    "\n",
    "chunkDS = pipeline.forward(chunkDS)  "
   ]
  },
  {
   "cell_type": "code",
   "execution_count": 29,
   "id": "9e506f46",
   "metadata": {},
   "outputs": [
    {
     "name": "stdout",
     "output_type": "stream",
     "text": [
      "['owl'] [0.8999999761581421]\n",
      "['owl'] [0.8999999761581421]\n",
      "[] []\n",
      "[] []\n",
      "['XC758442 - Common Blackbird - Turdus merula'] [0.6061245203018188]\n",
      "['bat', 'XC758442 - Common Blackbird - Turdus merula'] [0.800000011920929, 0.6061245203018188]\n"
     ]
    }
   ],
   "source": [
    "#verify properly loaded after feature extraction\n",
    "for row in chunkDS.chunk_ds[\"train\"]:\n",
    "    print(row[\"Annotation\"], row[\"Confidence\"])"
   ]
  },
  {
   "cell_type": "markdown",
   "id": "97658473",
   "metadata": {},
   "source": [
    "Chunk-level Operations"
   ]
  },
  {
   "cell_type": "code",
   "execution_count": 35,
   "id": "3ddbd094",
   "metadata": {},
   "outputs": [
    {
     "name": "stdout",
     "output_type": "stream",
     "text": [
      "EGCI __init__\n",
      "EGCI __call__\n"
     ]
    },
    {
     "name": "stderr",
     "output_type": "stream",
     "text": [
      "Map (num_proc=4): 100%|██████████| 6/6 [00:08<00:00,  1.43s/ examples]\n"
     ]
    }
   ],
   "source": [
    "#Insert EGCI\n",
    "egci = features.EGCI()\n",
    "chunkDS= egci(chunkDS)\n"
   ]
  },
  {
   "cell_type": "code",
   "execution_count": null,
   "id": "022c3cbf",
   "metadata": {},
   "outputs": [
    {
     "name": "stdout",
     "output_type": "stream",
     "text": [
      "[0.6825488342933071]\n",
      "[0.6520874520975383]\n",
      "[0.6374639176949186]\n",
      "[0.5778173748528687]\n",
      "[0.7267189092284931]\n",
      "[0.8713889758341212]\n"
     ]
    },
    {
     "data": {
      "text/plain": [
       "DatasetDict({\n",
       "    train: Dataset({\n",
       "        features: ['file_name', ' time_of_day', 'season', 'species', 'chunk_start', 'chunk_id', 'Annotation', 'Confidence', 'raw_audio', 'EGCI'],\n",
       "        num_rows: 6\n",
       "    })\n",
       "})"
      ]
     },
     "execution_count": 38,
     "metadata": {},
     "output_type": "execute_result"
    }
   ],
   "source": [
    "#verify EGCI column properly added\n",
    "for row in chunkDS.chunk_ds[\"train\"]:\n",
    "    print(row[\"EGCI\"])\n",
    "chunkDS.chunk_ds"
   ]
  },
  {
   "cell_type": "markdown",
   "id": "b0b02fcd",
   "metadata": {},
   "source": [
    "Canonical Graph Representation"
   ]
  },
  {
   "cell_type": "code",
   "execution_count": null,
   "id": "1cdeff7f",
   "metadata": {},
   "outputs": [],
   "source": []
  }
 ],
 "metadata": {
  "kernelspec": {
   "display_name": "acoustic-knowledge-discovery",
   "language": "python",
   "name": "python3"
  },
  "language_info": {
   "codemirror_mode": {
    "name": "ipython",
    "version": 3
   },
   "file_extension": ".py",
   "mimetype": "text/x-python",
   "name": "python",
   "nbconvert_exporter": "python",
   "pygments_lexer": "ipython3",
   "version": "3.12.3"
  }
 },
 "nbformat": 4,
 "nbformat_minor": 5
}
